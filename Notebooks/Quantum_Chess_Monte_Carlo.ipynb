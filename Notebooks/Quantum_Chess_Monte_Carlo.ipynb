{
  "cells": [
    {
      "cell_type": "markdown",
      "metadata": {
        "id": "view-in-github",
        "colab_type": "text"
      },
      "source": [
        "<a href=\"https://colab.research.google.com/github/PieroPastor/quantum-chess-bot-player/blob/main/Quantum_Chess_Monte_Carlo.ipynb\" target=\"_parent\"><img src=\"https://colab.research.google.com/assets/colab-badge.svg\" alt=\"Open In Colab\"/></a>"
      ]
    },
    {
      "cell_type": "markdown",
      "metadata": {
        "id": "ktZ7Hxg7rD_z"
      },
      "source": [
        "# Monte Carlo to plays Quantum Chess"
      ]
    },
    {
      "cell_type": "markdown",
      "metadata": {
        "id": "Xpm4aK8TrITS"
      },
      "source": [
        "Este notebook se encargará de crear un algoritmo de montecarlo limitado, para ahorrar recursos, que pueda jugar de manera mínimamente aceptable al ajedrez cuántico. Luego se hará jugar a dos de estos algoritmos, uno contra uno, para conseguir de este juego un dataset para la red neuronal del otro notebook. La forma en la que se utilizará el montecarlo es para tener un input, output para el aprendizaje de la red neuronal.\n",
        "\n",
        "Input: Arreglo del tablero con la versión ASCII del símbolo de la pieza, en positivo o negativo según su color. Y al principio el color de a quien le toca jugar [0 = Negras, 1 = Blancas]\n",
        "\n",
        "Output: Movimiento (Arreglo numérico o Vector).\n",
        "        \n",
        "    output = [Valor1, Valor2, Valor3, Valor4, Valor5, Valor6]\n",
        "    Valor 1 = Movimiento a realizar (1 : Move, 2 : Split, 3 : Merge)\n",
        "    Valor 2 = Posición inicio (tablero[7][2] -> 7*2+2 = 16)\n",
        "    Valor 3 = Posición inicio (tablero[7][2] -> 7*2+2 = 16, Si no es Merge es -1)\n",
        "    Valor 4 = Posición objetivo (tablero[7][2] -> 7*2+2 = 16)\n",
        "    Valor 5 = Posición objetivo (tablero[7][2] -> 7*2+2 = 16, Si no es Split es -1)\n",
        "    Valor 6 = A que coronar (0 : Nada, 1 : Torre, 2 : Dama, 3 : Alfil, 4 : Caballo)\n",
        "\n",
        "    Por ejemplo: [1, 15, -1, 23, -1, 0] : Hace Move de 15 a 23, como no es Split no necesita una posición extra de llegada, como no hay coronación es 0.\n"
      ]
    },
    {
      "cell_type": "markdown",
      "metadata": {
        "id": "GnBX_EyHcslU"
      },
      "source": [
        "## Carga del Quantum Chess desde GitHub"
      ]
    },
    {
      "cell_type": "code",
      "execution_count": null,
      "metadata": {
        "id": "jYSkuq5sby7v"
      },
      "outputs": [],
      "source": [
        "! git clone https://github.com/PieroPastor/quantum-chess-bot-player.git"
      ]
    },
    {
      "cell_type": "markdown",
      "metadata": {
        "id": "0V9fTkvX3Kxk"
      },
      "source": [
        "##Carga de librerias Necesarias"
      ]
    },
    {
      "cell_type": "code",
      "execution_count": null,
      "metadata": {
        "id": "9_9GYcSo3OnV"
      },
      "outputs": [],
      "source": [
        "! pip install -r quantum-chess-bot-player/requirements.txt"
      ]
    },
    {
      "cell_type": "markdown",
      "source": [
        "Importación de los .py del proyecto del juego."
      ],
      "metadata": {
        "id": "O7c8ww-qiQLG"
      }
    },
    {
      "cell_type": "code",
      "execution_count": null,
      "metadata": {
        "id": "b-kaD7nn3Tmt",
        "colab": {
          "base_uri": "https://localhost:8080/"
        },
        "outputId": "ad63211b-95c4-45b7-b914-2d895d0561ed"
      },
      "outputs": [
        {
          "output_type": "stream",
          "name": "stdout",
          "text": [
            "pygame 2.6.0 (SDL 2.28.4, Python 3.10.12)\n",
            "Hello from the pygame community. https://www.pygame.org/contribute.html\n"
          ]
        }
      ],
      "source": [
        "import sys\n",
        "sys.path.append('/content/quantum-chess-bot-player/QuantumChess')  # Ajusta la ruta si es necesario\n",
        "import Tablero\n",
        "import Piezas\n",
        "from Piezas import BColors\n",
        "import csv\n",
        "##################################\n",
        "from collections import namedtuple\n",
        "from Tablero import Tablero\n",
        "import random\n",
        "import itertools\n",
        "import copy"
      ]
    },
    {
      "cell_type": "markdown",
      "metadata": {
        "id": "s9Ln8CX7c0vb"
      },
      "source": [
        "## Clase Juego"
      ]
    },
    {
      "cell_type": "markdown",
      "source": [
        "Clase genérica donde estarán los métodos genéricos que controlaran la base del juego."
      ],
      "metadata": {
        "id": "fiwWKqXAiZVl"
      }
    },
    {
      "cell_type": "code",
      "execution_count": null,
      "metadata": {
        "id": "2gs0JPzMq_dO"
      },
      "outputs": [],
      "source": [
        "class Game:\n",
        "  def actions(self, state):\n",
        "    \"\"\"Retorna una lista de movidas permitidas en el estado actual state.\"\"\"\n",
        "    raise NotImplementedError\n",
        "\n",
        "  def result(self, state, move):\n",
        "    \"\"\"Retorna el nuevo estado que resulta de hacer una movida move en el estado state.\"\"\"\n",
        "    raise NotImplementedError\n",
        "\n",
        "  def utility(self, state, player):\n",
        "    \"\"\"Retorna el valor de utilidad para el jugador player en el estado terminal state.\"\"\"\n",
        "    raise NotImplementedError\n",
        "\n",
        "  def terminal_test(self, state):\n",
        "    \"\"\"Retorna True si el estado state es un estado terminal del juego.\"\"\"\n",
        "    return not self.actions(state)\n",
        "\n",
        "  def to_move(self, state):\n",
        "    \"\"\"Retorna el jugador que le toca jugar en el presente estado state.\"\"\"\n",
        "    return state.to_move\n",
        "\n",
        "  def display(self, state):\n",
        "    \"\"\"Imprime o displaya el state.\"\"\"\n",
        "    print(state)\n",
        "\n",
        "  def __repr__(self):\n",
        "    return '<{}>'.format(self.__class__.__name__)\n",
        "\n",
        "  def play_game(self, *players, verbose):\n",
        "    \"\"\"Controlador del juego:\n",
        "    Llama alternadamente a cada jugador pasandole el estado actual del juego y ejecutando la movida retornada.\"\"\"\n",
        "    state = self.initial\n",
        "    numJugada = 0\n",
        "    while True:\n",
        "      for player in players:\n",
        "        move = player(self, state)\n",
        "        mark_now = self.to_move(state)\n",
        "        state = self.result(state, move)\n",
        "        numJugada = numJugada + 1\n",
        "        if verbose:\n",
        "          print(\"Jugada\", numJugada, \": Turno del jugador\", player.__name__, \"(\",mark_now,\")\")\n",
        "          self.display(state)\n",
        "          print(\"*************************************************\")\n",
        "        if self.terminal_test(state):\n",
        "          print(\"Jugada\", numJugada, \"(final): Turno del jugador\", player.__name__, \"(\",mark_now,\")\")\n",
        "          self.display(state)\n",
        "          print(\"La utilidad del primer jugador (\",self.to_move(self.initial),\") fue: \")\n",
        "          #retorna utilidad del 1er jugador al acabar el juego\n",
        "          return self.utility(state, self.to_move(self.initial))\n",
        "\n",
        "  def convert_pieces(self, board):\n",
        "    tablero = board.tablero\n",
        "    probabilidades = board.probabilidades\n",
        "    t = []\n",
        "    for row in tablero:\n",
        "      for i in row:\n",
        "        if i == \".\": t.append(0)\n",
        "        else:\n",
        "          p = i[5]\n",
        "          if i[0:5] == BColors.BLACK: mult = -1\n",
        "          else: mult = 1\n",
        "          t.append(ord(p)*mult)\n",
        "    return t\n",
        "    for row in probabilidades:\n",
        "      for i in row:\n",
        "        t.append(i)\n",
        "\n",
        "  def convert_move(self, move):\n",
        "    neo = [move[0]]\n",
        "    for i in range(1, 5):\n",
        "      if not isinstance(move[i], int): neo.append(move[i][0]*8+move[i][1])\n",
        "      else: neo.append(-1)\n",
        "    neo.append(move[5])\n",
        "    return neo\n",
        "\n",
        "  def play_save_game(self, *players, verbose, delete_random=False):\n",
        "    \"\"\"Controlador del juego:\n",
        "    Llama alternadamente a cada jugador pasandole el estado actual del juego y ejecutando la movida retornada.\"\"\"\n",
        "    state = self.initial\n",
        "    numJugada = 0\n",
        "    nombre_archivo = \"dataset.csv\"\n",
        "    with open(nombre_archivo, mode=\"w\", newline=\"\") as archivo:\n",
        "      escritor_csv = csv.writer(archivo)\n",
        "      while True:\n",
        "        for player in players:\n",
        "          move = player(self, state)\n",
        "          input_board = [1 if state.to_move == \"W\" else 0]\n",
        "          input_board += self.convert_pieces(state.board)\n",
        "          mark_now = self.to_move(state)\n",
        "          state = self.result(state, move)\n",
        "          output_move = self.convert_move(move)\n",
        "          if not delete_random: escritor_csv.writerow(input_board+output_move)\n",
        "          if delete_random and not player.__name__ == \"random_player\":\n",
        "            escritor_csv.writerow(input_board+output_move)\n",
        "          numJugada = numJugada + 1\n",
        "          if verbose:\n",
        "            print(\"Jugada\", numJugada, \": Turno del jugador\", player.__name__, \"(\",mark_now,\")\")\n",
        "            self.display(state)\n",
        "            print(\"*************************************************\")\n",
        "          if self.terminal_test(state):\n",
        "            print(\"Jugada\", numJugada, \"(final): Turno del jugador\", player.__name__, \"(\",mark_now,\")\")\n",
        "            self.display(state)\n",
        "            print(\"La utilidad del primer jugador (\",self.to_move(self.initial),\") fue: \")\n",
        "            #retorna utilidad del 1er jugador al acabar el juego\n",
        "            return self.utility(state, self.to_move(self.initial))"
      ]
    },
    {
      "cell_type": "markdown",
      "metadata": {
        "id": "r59pv6PLyNh2"
      },
      "source": [
        "##QuantumChess Class"
      ]
    },
    {
      "cell_type": "code",
      "execution_count": null,
      "metadata": {
        "id": "Sh_Ls467yMxW"
      },
      "outputs": [],
      "source": [
        "#Para este entorno, un estado es una tupla con nombres de campos (namedtuple)\n",
        "GameState = namedtuple('GameState', 'to_move, utility, board, moves')\n",
        "\n",
        "class QuantumChess(Game):\n",
        "  def __init__(self):\n",
        "    self.tab = Tablero()\n",
        "    moves = self.tab.GetMoves('W')\n",
        "    self.initial = GameState(to_move='W', utility=0, board=self.tab, moves=moves)\n",
        "\n",
        "  #Cargará los movimientos posibles para el que le toque, si es white, le toca a black\n",
        "  def update_movements(self, state):\n",
        "    #print(state.board.GetMoves('W' if state.to_move == 'B' else 'B'))\n",
        "    return state.board.GetMoves('W' if state.to_move == 'B' else 'B')\n",
        "\n",
        "  #No da los movimientos necesariamente posibles, sino da los disponibles por pieza.\n",
        "  #Esto porque la funcion GenericMove se encarga de analizarlos\n",
        "  def actions(self, state):\n",
        "    \"Retorna moves porque estate es de la tupla GameState\"\n",
        "    return state.moves\n",
        "\n",
        "  def result(self, state, move):\n",
        "    if move not in state.moves: return state #No hay cambios\n",
        "    board = state.board.Clon()\n",
        "    board.GenericMove(move)\n",
        "    moves = self.update_movements(state)\n",
        "    return GameState(to_move=('W' if state.to_move == 'B' else 'B'),\n",
        "                      utility=self.compute_utility(board, move, state.to_move),\n",
        "                      board=board, moves=moves)\n",
        "\n",
        "  def utility(self, state, player):\n",
        "    \"\"\"Retorna la utilidad del player en estado terminal state; 1 si ganó, -1 si perdió, 0 empate.\"\"\"\n",
        "    if player == 'W': return state.board.puntaje_blancas - state.board.puntaje_negras\n",
        "    if player == 'B': return state.board.puntaje_negras - state.board.puntaje_blancas\n",
        "\n",
        "  def terminal_test(self, state):\n",
        "    \"\"\"Un estado es terminal si hay un ganador o no hay mas movidas posibles.\"\"\"\n",
        "    return len(state.moves) == 0\n",
        "\n",
        "  def display(self, state):\n",
        "    board = state.board\n",
        "    board.ImprimirTablero()\n",
        "\n",
        "  def compute_utility(self, board, move, player):\n",
        "    if player == 'W': return board.puntaje_blancas - board.puntaje_negras\n",
        "    if player == 'B': return board.puntaje_negras - board.puntaje_blancas\n"
      ]
    },
    {
      "cell_type": "markdown",
      "metadata": {
        "id": "m-4ue1QAqfMj"
      },
      "source": [
        "## Algoritmo Monte Carlo"
      ]
    },
    {
      "cell_type": "markdown",
      "metadata": {
        "id": "VPGl-s8lrXE4"
      },
      "source": [
        "Implementación del Nodo"
      ]
    },
    {
      "cell_type": "code",
      "execution_count": null,
      "metadata": {
        "id": "e4De70u6qhNh"
      },
      "outputs": [],
      "source": [
        "class MCT_Node:\n",
        "  \"\"\"Nodo del árbol de búsqueda Monte Carlo. Hace un seguimiento de los estados hijos (`children` states).\"\"\"\n",
        "  def __init__(self, parent=None, state=None, U=0, N=0):\n",
        "    self.__dict__.update(parent=parent, state=state, U=U, N=N)\n",
        "    self.children = {} #No hay hijos al inicio\n",
        "    self.actions = None"
      ]
    },
    {
      "cell_type": "markdown",
      "metadata": {
        "id": "HU6YiX_TrZlw"
      },
      "source": [
        "Implementación de la función UCB1 para la selección. (Límite de confianza superior)"
      ]
    },
    {
      "cell_type": "code",
      "execution_count": null,
      "metadata": {
        "id": "sMR4ajEYreA_"
      },
      "outputs": [],
      "source": [
        "import numpy as np\n",
        "#Función donde n es el nodo y C es una constante\n",
        "#n.parent.N es el total de simulaciones, y\n",
        "def ucb(n, C=1.4):\n",
        "  \"\"\"Función UCB para la fase de selección.\"\"\"\n",
        "  if n.N == 0: return np.inf\n",
        "  else: return (n.U / n.N) + C * np.sqrt(np.log(n.parent.N) / n.N)"
      ]
    },
    {
      "cell_type": "markdown",
      "metadata": {
        "id": "nsH_Q98HsumP"
      },
      "source": [
        "Algoritmo MCTS"
      ]
    },
    {
      "cell_type": "code",
      "execution_count": null,
      "metadata": {
        "id": "EKK_aBDCswOl"
      },
      "outputs": [],
      "source": [
        "import random\n",
        "\n",
        "#N es la cantidad de simulaciones\n",
        "def monte_carlo_tree_search(state, game, N=20, m=20):\n",
        "  def select(n):\n",
        "    \"\"\"Selecciona un nodo del árbol.\"\"\"\n",
        "    if n.children: return select(max(n.children.keys(), key=ucb)) #Retorna el mejor nodo\n",
        "    else: return n #Si no hay hijos se retorna a sí mismo\n",
        "\n",
        "  def expand(n):\n",
        "    \"\"\"Expande la rama agregando todos sus estados hijo\"\"\"\n",
        "    if not n.children and not game.terminal_test(n.state): #Si el juego no se acabó\n",
        "      n.children = {MCT_Node(state=game.result(n.state, action), parent=n): action\n",
        "                    for action in game.actions(n.state)} #Crea un hijo por accion posible\n",
        "    return select(n)\n",
        "\n",
        "  def simulate(game, state):\n",
        "    \"\"\"Simula la utilidad del estado actual al tomar aleatoriamente un paso.\"\"\"\n",
        "    player = game.to_move(state)\n",
        "    i = 0 #Contador de iteraciones (para medir profundidad)\n",
        "    while not game.terminal_test(state) and i < m: #Mientras que no se acabe\n",
        "      action = random.choice(list(game.actions(state))) #Elige una accion aleatoria\n",
        "      state = game.result(state, action)\n",
        "      if game.terminal_test(state) and state.to_move == player: return -1000 #Hizo jaque mate\n",
        "      elif game.terminal_test(state): return 1000 #Le hicieron jaque mate\n",
        "      i += 1\n",
        "    #print(player, game.utility(state, player), state.board.puntaje_blancas, state.board.puntaje_negras, action)\n",
        "    v = game.utility(state, player)\n",
        "    return -v #Retorna la puntuación en negativo, porque la recibirá min\n",
        "\n",
        "  def backprop(n, utility):\n",
        "    \"\"\"Pasa la utilidad a todos los nodos padre (es decir, hacia atrás).\"\"\"\n",
        "    if utility > 0: n.U += utility\n",
        "    n.N += 1\n",
        "    if n.parent: backprop(n.parent, -utility)\n",
        "\n",
        "  root = MCT_Node(state=state)\n",
        "\n",
        "  for _ in range(N): #Se expande N veces\n",
        "    leaf = select(root)\n",
        "    child = expand(leaf)\n",
        "    result = simulate(game, child.state)\n",
        "    backprop(child, result)\n",
        "\n",
        "  max_state = max(root.children, key=lambda p: p.U)\n",
        "  return root.children.get(max_state)"
      ]
    },
    {
      "cell_type": "markdown",
      "metadata": {
        "id": "36gYih_Yxea-"
      },
      "source": [
        "## Players"
      ]
    },
    {
      "cell_type": "code",
      "execution_count": null,
      "metadata": {
        "id": "X1LDtZzUxgSF"
      },
      "outputs": [],
      "source": [
        "def mcts_player(game, state):\n",
        "  #print(state.moves)\n",
        "  return monte_carlo_tree_search(state, game)\n",
        "\n",
        "def random_player(game, state):\n",
        "  a = random.choice(game.actions(state))\n",
        "  #print(a)\n",
        "  return a\n",
        "\n",
        "def human_player(game, state):\n",
        "  print(\"Estado actual:\")\n",
        "  game.display(state)\n",
        "  print(\"Movidas disponibles: {}\".format(game.actions(state)))\n",
        "  print(\"\")\n",
        "  move_string = input('Humano, ¿Cuál es tu movida?')\n",
        "  try: move = eval(move_string)\n",
        "  except NameError: move = move_string\n",
        "  return move"
      ]
    },
    {
      "cell_type": "markdown",
      "metadata": {
        "id": "HI8QWs0l2GxR"
      },
      "source": [
        "## Game Simulator"
      ]
    },
    {
      "cell_type": "code",
      "execution_count": null,
      "metadata": {
        "colab": {
          "base_uri": "https://localhost:8080/",
          "height": 738
        },
        "id": "EHSvSsrvjwPK",
        "outputId": "28ed5ad8-64d6-4892-d6f2-c8da34de4e1f"
      },
      "outputs": [
        {
          "output_type": "stream",
          "name": "stdout",
          "text": [
            "Jugada 1 : Turno del jugador mcts_player ( W )\n",
            "1 \u001b[30mR\u001b[0m \u001b[30mK\u001b[0m \u001b[30mB\u001b[0m \u001b[30mQ\u001b[0m \u001b[30mE\u001b[0m \u001b[30mB\u001b[0m \u001b[30mK\u001b[0m \u001b[30mR\u001b[0m \n",
            "2 \u001b[30mP\u001b[0m \u001b[30mP\u001b[0m \u001b[30mP\u001b[0m \u001b[30mP\u001b[0m \u001b[30mP\u001b[0m \u001b[30mP\u001b[0m \u001b[30mP\u001b[0m \u001b[30mP\u001b[0m \n",
            "3 . . . . . . . . \n",
            "4 . . . . . . . . \n",
            "5 . \u001b[97mP\u001b[0m . . . . . . \n",
            "6 . . . . . . . . \n",
            "7 \u001b[97mP\u001b[0m . \u001b[97mP\u001b[0m \u001b[97mP\u001b[0m \u001b[97mP\u001b[0m \u001b[97mP\u001b[0m \u001b[97mP\u001b[0m \u001b[97mP\u001b[0m \n",
            "8 \u001b[97mR\u001b[0m \u001b[97mK\u001b[0m \u001b[97mB\u001b[0m \u001b[97mQ\u001b[0m \u001b[97mE\u001b[0m \u001b[97mB\u001b[0m \u001b[97mK\u001b[0m \u001b[97mR\u001b[0m \n",
            "  A B C D E F G H\n",
            "*************************************************\n",
            "Jugada 2 : Turno del jugador random_player ( B )\n",
            "1 \u001b[30mR\u001b[0m \u001b[30mK\u001b[0m \u001b[30mB\u001b[0m \u001b[30mQ\u001b[0m \u001b[30mE\u001b[0m \u001b[30mB\u001b[0m . \u001b[30mR\u001b[0m \n",
            "2 \u001b[30mP\u001b[0m \u001b[30mP\u001b[0m \u001b[30mP\u001b[0m \u001b[30mP\u001b[0m \u001b[30mP\u001b[0m \u001b[30mP\u001b[0m \u001b[30mP\u001b[0m \u001b[30mP\u001b[0m \n",
            "3 . . . . . \u001b[30mK\u001b[0m . \u001b[30mK\u001b[0m \n",
            "4 . . . . . . . . \n",
            "5 . \u001b[97mP\u001b[0m . . . . . . \n",
            "6 . . . . . . . . \n",
            "7 \u001b[97mP\u001b[0m . \u001b[97mP\u001b[0m \u001b[97mP\u001b[0m \u001b[97mP\u001b[0m \u001b[97mP\u001b[0m \u001b[97mP\u001b[0m \u001b[97mP\u001b[0m \n",
            "8 \u001b[97mR\u001b[0m \u001b[97mK\u001b[0m \u001b[97mB\u001b[0m \u001b[97mQ\u001b[0m \u001b[97mE\u001b[0m \u001b[97mB\u001b[0m \u001b[97mK\u001b[0m \u001b[97mR\u001b[0m \n",
            "  A B C D E F G H\n",
            "*************************************************\n"
          ]
        },
        {
          "output_type": "error",
          "ename": "KeyboardInterrupt",
          "evalue": "",
          "traceback": [
            "\u001b[0;31m---------------------------------------------------------------------------\u001b[0m",
            "\u001b[0;31mKeyboardInterrupt\u001b[0m                         Traceback (most recent call last)",
            "\u001b[0;32m<ipython-input-17-d0db775210e4>\u001b[0m in \u001b[0;36m<cell line: 4>\u001b[0;34m()\u001b[0m\n\u001b[1;32m      4\u001b[0m \u001b[0;32mwhile\u001b[0m \u001b[0;32mTrue\u001b[0m\u001b[0;34m:\u001b[0m\u001b[0;34m\u001b[0m\u001b[0;34m\u001b[0m\u001b[0m\n\u001b[1;32m      5\u001b[0m   \u001b[0mqchess\u001b[0m \u001b[0;34m=\u001b[0m \u001b[0mQuantumChess\u001b[0m\u001b[0;34m(\u001b[0m\u001b[0;34m)\u001b[0m\u001b[0;34m\u001b[0m\u001b[0;34m\u001b[0m\u001b[0m\n\u001b[0;32m----> 6\u001b[0;31m   \u001b[0mprint\u001b[0m\u001b[0;34m(\u001b[0m\u001b[0mqchess\u001b[0m\u001b[0;34m.\u001b[0m\u001b[0mplay_save_game\u001b[0m\u001b[0;34m(\u001b[0m\u001b[0mmcts_player\u001b[0m\u001b[0;34m,\u001b[0m \u001b[0mrandom_player\u001b[0m\u001b[0;34m,\u001b[0m \u001b[0mverbose\u001b[0m\u001b[0;34m=\u001b[0m\u001b[0;32mTrue\u001b[0m\u001b[0;34m)\u001b[0m\u001b[0;34m)\u001b[0m\u001b[0;34m\u001b[0m\u001b[0;34m\u001b[0m\u001b[0m\n\u001b[0m\u001b[1;32m      7\u001b[0m   \u001b[0;32mdel\u001b[0m \u001b[0mqchess\u001b[0m\u001b[0;34m\u001b[0m\u001b[0;34m\u001b[0m\u001b[0m\n\u001b[1;32m      8\u001b[0m \u001b[0;34m\u001b[0m\u001b[0m\n",
            "\u001b[0;32m<ipython-input-4-58a86f2ae607>\u001b[0m in \u001b[0;36mplay_save_game\u001b[0;34m(self, verbose, delete_random, *players)\u001b[0m\n\u001b[1;32m     84\u001b[0m       \u001b[0;32mwhile\u001b[0m \u001b[0;32mTrue\u001b[0m\u001b[0;34m:\u001b[0m\u001b[0;34m\u001b[0m\u001b[0;34m\u001b[0m\u001b[0m\n\u001b[1;32m     85\u001b[0m         \u001b[0;32mfor\u001b[0m \u001b[0mplayer\u001b[0m \u001b[0;32min\u001b[0m \u001b[0mplayers\u001b[0m\u001b[0;34m:\u001b[0m\u001b[0;34m\u001b[0m\u001b[0;34m\u001b[0m\u001b[0m\n\u001b[0;32m---> 86\u001b[0;31m           \u001b[0mmove\u001b[0m \u001b[0;34m=\u001b[0m \u001b[0mplayer\u001b[0m\u001b[0;34m(\u001b[0m\u001b[0mself\u001b[0m\u001b[0;34m,\u001b[0m \u001b[0mstate\u001b[0m\u001b[0;34m)\u001b[0m\u001b[0;34m\u001b[0m\u001b[0;34m\u001b[0m\u001b[0m\n\u001b[0m\u001b[1;32m     87\u001b[0m           \u001b[0minput_board\u001b[0m \u001b[0;34m=\u001b[0m \u001b[0;34m[\u001b[0m\u001b[0;36m1\u001b[0m \u001b[0;32mif\u001b[0m \u001b[0mstate\u001b[0m\u001b[0;34m.\u001b[0m\u001b[0mto_move\u001b[0m \u001b[0;34m==\u001b[0m \u001b[0;34m\"W\"\u001b[0m \u001b[0;32melse\u001b[0m \u001b[0;36m0\u001b[0m\u001b[0;34m]\u001b[0m\u001b[0;34m\u001b[0m\u001b[0;34m\u001b[0m\u001b[0m\n\u001b[1;32m     88\u001b[0m           \u001b[0minput_board\u001b[0m \u001b[0;34m+=\u001b[0m \u001b[0mself\u001b[0m\u001b[0;34m.\u001b[0m\u001b[0mconvert_pieces\u001b[0m\u001b[0;34m(\u001b[0m\u001b[0mstate\u001b[0m\u001b[0;34m.\u001b[0m\u001b[0mboard\u001b[0m\u001b[0;34m)\u001b[0m\u001b[0;34m\u001b[0m\u001b[0;34m\u001b[0m\u001b[0m\n",
            "\u001b[0;32m<ipython-input-16-978eb36cccd0>\u001b[0m in \u001b[0;36mmcts_player\u001b[0;34m(game, state)\u001b[0m\n\u001b[1;32m      1\u001b[0m \u001b[0;32mdef\u001b[0m \u001b[0mmcts_player\u001b[0m\u001b[0;34m(\u001b[0m\u001b[0mgame\u001b[0m\u001b[0;34m,\u001b[0m \u001b[0mstate\u001b[0m\u001b[0;34m)\u001b[0m\u001b[0;34m:\u001b[0m\u001b[0;34m\u001b[0m\u001b[0;34m\u001b[0m\u001b[0m\n\u001b[1;32m      2\u001b[0m   \u001b[0;31m#print(state.moves)\u001b[0m\u001b[0;34m\u001b[0m\u001b[0;34m\u001b[0m\u001b[0m\n\u001b[0;32m----> 3\u001b[0;31m   \u001b[0;32mreturn\u001b[0m \u001b[0mmonte_carlo_tree_search\u001b[0m\u001b[0;34m(\u001b[0m\u001b[0mstate\u001b[0m\u001b[0;34m,\u001b[0m \u001b[0mgame\u001b[0m\u001b[0;34m)\u001b[0m\u001b[0;34m\u001b[0m\u001b[0;34m\u001b[0m\u001b[0m\n\u001b[0m\u001b[1;32m      4\u001b[0m \u001b[0;34m\u001b[0m\u001b[0m\n\u001b[1;32m      5\u001b[0m \u001b[0;32mdef\u001b[0m \u001b[0mrandom_player\u001b[0m\u001b[0;34m(\u001b[0m\u001b[0mgame\u001b[0m\u001b[0;34m,\u001b[0m \u001b[0mstate\u001b[0m\u001b[0;34m)\u001b[0m\u001b[0;34m:\u001b[0m\u001b[0;34m\u001b[0m\u001b[0;34m\u001b[0m\u001b[0m\n",
            "\u001b[0;32m<ipython-input-15-739b05e14f89>\u001b[0m in \u001b[0;36mmonte_carlo_tree_search\u001b[0;34m(state, game, N, m)\u001b[0m\n\u001b[1;32m     39\u001b[0m   \u001b[0;32mfor\u001b[0m \u001b[0m_\u001b[0m \u001b[0;32min\u001b[0m \u001b[0mrange\u001b[0m\u001b[0;34m(\u001b[0m\u001b[0mN\u001b[0m\u001b[0;34m)\u001b[0m\u001b[0;34m:\u001b[0m \u001b[0;31m#Se expande N veces\u001b[0m\u001b[0;34m\u001b[0m\u001b[0;34m\u001b[0m\u001b[0m\n\u001b[1;32m     40\u001b[0m     \u001b[0mleaf\u001b[0m \u001b[0;34m=\u001b[0m \u001b[0mselect\u001b[0m\u001b[0;34m(\u001b[0m\u001b[0mroot\u001b[0m\u001b[0;34m)\u001b[0m\u001b[0;34m\u001b[0m\u001b[0;34m\u001b[0m\u001b[0m\n\u001b[0;32m---> 41\u001b[0;31m     \u001b[0mchild\u001b[0m \u001b[0;34m=\u001b[0m \u001b[0mexpand\u001b[0m\u001b[0;34m(\u001b[0m\u001b[0mleaf\u001b[0m\u001b[0;34m)\u001b[0m\u001b[0;34m\u001b[0m\u001b[0;34m\u001b[0m\u001b[0m\n\u001b[0m\u001b[1;32m     42\u001b[0m     \u001b[0mresult\u001b[0m \u001b[0;34m=\u001b[0m \u001b[0msimulate\u001b[0m\u001b[0;34m(\u001b[0m\u001b[0mgame\u001b[0m\u001b[0;34m,\u001b[0m \u001b[0mchild\u001b[0m\u001b[0;34m.\u001b[0m\u001b[0mstate\u001b[0m\u001b[0;34m)\u001b[0m\u001b[0;34m\u001b[0m\u001b[0;34m\u001b[0m\u001b[0m\n\u001b[1;32m     43\u001b[0m     \u001b[0mbackprop\u001b[0m\u001b[0;34m(\u001b[0m\u001b[0mchild\u001b[0m\u001b[0;34m,\u001b[0m \u001b[0mresult\u001b[0m\u001b[0;34m)\u001b[0m\u001b[0;34m\u001b[0m\u001b[0;34m\u001b[0m\u001b[0m\n",
            "\u001b[0;32m<ipython-input-15-739b05e14f89>\u001b[0m in \u001b[0;36mexpand\u001b[0;34m(n)\u001b[0m\n\u001b[1;32m     11\u001b[0m     \u001b[0;34m\"\"\"Expande la rama agregando todos sus estados hijo\"\"\"\u001b[0m\u001b[0;34m\u001b[0m\u001b[0;34m\u001b[0m\u001b[0m\n\u001b[1;32m     12\u001b[0m     \u001b[0;32mif\u001b[0m \u001b[0;32mnot\u001b[0m \u001b[0mn\u001b[0m\u001b[0;34m.\u001b[0m\u001b[0mchildren\u001b[0m \u001b[0;32mand\u001b[0m \u001b[0;32mnot\u001b[0m \u001b[0mgame\u001b[0m\u001b[0;34m.\u001b[0m\u001b[0mterminal_test\u001b[0m\u001b[0;34m(\u001b[0m\u001b[0mn\u001b[0m\u001b[0;34m.\u001b[0m\u001b[0mstate\u001b[0m\u001b[0;34m)\u001b[0m\u001b[0;34m:\u001b[0m \u001b[0;31m#Si el juego no se acabó\u001b[0m\u001b[0;34m\u001b[0m\u001b[0;34m\u001b[0m\u001b[0m\n\u001b[0;32m---> 13\u001b[0;31m       n.children = {MCT_Node(state=game.result(n.state, action), parent=n): action\n\u001b[0m\u001b[1;32m     14\u001b[0m                     for action in game.actions(n.state)} #Crea un hijo por accion posible\n\u001b[1;32m     15\u001b[0m     \u001b[0;32mreturn\u001b[0m \u001b[0mselect\u001b[0m\u001b[0;34m(\u001b[0m\u001b[0mn\u001b[0m\u001b[0;34m)\u001b[0m\u001b[0;34m\u001b[0m\u001b[0;34m\u001b[0m\u001b[0m\n",
            "\u001b[0;32m<ipython-input-15-739b05e14f89>\u001b[0m in \u001b[0;36m<dictcomp>\u001b[0;34m(.0)\u001b[0m\n\u001b[1;32m     11\u001b[0m     \u001b[0;34m\"\"\"Expande la rama agregando todos sus estados hijo\"\"\"\u001b[0m\u001b[0;34m\u001b[0m\u001b[0;34m\u001b[0m\u001b[0m\n\u001b[1;32m     12\u001b[0m     \u001b[0;32mif\u001b[0m \u001b[0;32mnot\u001b[0m \u001b[0mn\u001b[0m\u001b[0;34m.\u001b[0m\u001b[0mchildren\u001b[0m \u001b[0;32mand\u001b[0m \u001b[0;32mnot\u001b[0m \u001b[0mgame\u001b[0m\u001b[0;34m.\u001b[0m\u001b[0mterminal_test\u001b[0m\u001b[0;34m(\u001b[0m\u001b[0mn\u001b[0m\u001b[0;34m.\u001b[0m\u001b[0mstate\u001b[0m\u001b[0;34m)\u001b[0m\u001b[0;34m:\u001b[0m \u001b[0;31m#Si el juego no se acabó\u001b[0m\u001b[0;34m\u001b[0m\u001b[0;34m\u001b[0m\u001b[0m\n\u001b[0;32m---> 13\u001b[0;31m       n.children = {MCT_Node(state=game.result(n.state, action), parent=n): action\n\u001b[0m\u001b[1;32m     14\u001b[0m                     for action in game.actions(n.state)} #Crea un hijo por accion posible\n\u001b[1;32m     15\u001b[0m     \u001b[0;32mreturn\u001b[0m \u001b[0mselect\u001b[0m\u001b[0;34m(\u001b[0m\u001b[0mn\u001b[0m\u001b[0;34m)\u001b[0m\u001b[0;34m\u001b[0m\u001b[0;34m\u001b[0m\u001b[0m\n",
            "\u001b[0;32m<ipython-input-5-ab989a7dd337>\u001b[0m in \u001b[0;36mresult\u001b[0;34m(self, state, move)\u001b[0m\n\u001b[1;32m     21\u001b[0m   \u001b[0;32mdef\u001b[0m \u001b[0mresult\u001b[0m\u001b[0;34m(\u001b[0m\u001b[0mself\u001b[0m\u001b[0;34m,\u001b[0m \u001b[0mstate\u001b[0m\u001b[0;34m,\u001b[0m \u001b[0mmove\u001b[0m\u001b[0;34m)\u001b[0m\u001b[0;34m:\u001b[0m\u001b[0;34m\u001b[0m\u001b[0;34m\u001b[0m\u001b[0m\n\u001b[1;32m     22\u001b[0m     \u001b[0;32mif\u001b[0m \u001b[0mmove\u001b[0m \u001b[0;32mnot\u001b[0m \u001b[0;32min\u001b[0m \u001b[0mstate\u001b[0m\u001b[0;34m.\u001b[0m\u001b[0mmoves\u001b[0m\u001b[0;34m:\u001b[0m \u001b[0;32mreturn\u001b[0m \u001b[0mstate\u001b[0m \u001b[0;31m#No hay cambios\u001b[0m\u001b[0;34m\u001b[0m\u001b[0;34m\u001b[0m\u001b[0m\n\u001b[0;32m---> 23\u001b[0;31m     \u001b[0mboard\u001b[0m \u001b[0;34m=\u001b[0m \u001b[0mstate\u001b[0m\u001b[0;34m.\u001b[0m\u001b[0mboard\u001b[0m\u001b[0;34m.\u001b[0m\u001b[0mClon\u001b[0m\u001b[0;34m(\u001b[0m\u001b[0;34m)\u001b[0m\u001b[0;34m\u001b[0m\u001b[0;34m\u001b[0m\u001b[0m\n\u001b[0m\u001b[1;32m     24\u001b[0m     \u001b[0mboard\u001b[0m\u001b[0;34m.\u001b[0m\u001b[0mGenericMove\u001b[0m\u001b[0;34m(\u001b[0m\u001b[0mmove\u001b[0m\u001b[0;34m)\u001b[0m\u001b[0;34m\u001b[0m\u001b[0;34m\u001b[0m\u001b[0m\n\u001b[1;32m     25\u001b[0m     \u001b[0mmoves\u001b[0m \u001b[0;34m=\u001b[0m \u001b[0mself\u001b[0m\u001b[0;34m.\u001b[0m\u001b[0mupdate_movements\u001b[0m\u001b[0;34m(\u001b[0m\u001b[0mstate\u001b[0m\u001b[0;34m)\u001b[0m\u001b[0;34m\u001b[0m\u001b[0;34m\u001b[0m\u001b[0m\n",
            "\u001b[0;32m/content/quantum-chess-bot-player/QuantumChess/Tablero.py\u001b[0m in \u001b[0;36mClon\u001b[0;34m(self)\u001b[0m\n\u001b[1;32m    160\u001b[0m     \u001b[0;32mdef\u001b[0m \u001b[0mClon\u001b[0m\u001b[0;34m(\u001b[0m\u001b[0mself\u001b[0m\u001b[0;34m)\u001b[0m\u001b[0;34m:\u001b[0m\u001b[0;34m\u001b[0m\u001b[0;34m\u001b[0m\u001b[0m\n\u001b[1;32m    161\u001b[0m         \u001b[0;31m#Retorna un clon de sí mismo\u001b[0m\u001b[0;34m\u001b[0m\u001b[0;34m\u001b[0m\u001b[0m\n\u001b[0;32m--> 162\u001b[0;31m         \u001b[0;32mreturn\u001b[0m \u001b[0mcopy\u001b[0m\u001b[0;34m.\u001b[0m\u001b[0mdeepcopy\u001b[0m\u001b[0;34m(\u001b[0m\u001b[0mself\u001b[0m\u001b[0;34m)\u001b[0m\u001b[0;34m\u001b[0m\u001b[0;34m\u001b[0m\u001b[0m\n\u001b[0m\u001b[1;32m    163\u001b[0m \u001b[0;34m\u001b[0m\u001b[0m\n\u001b[1;32m    164\u001b[0m     \u001b[0;32mdef\u001b[0m \u001b[0m_GetPieza\u001b[0m\u001b[0;34m(\u001b[0m\u001b[0mself\u001b[0m\u001b[0;34m,\u001b[0m \u001b[0msimbolo\u001b[0m\u001b[0;34m,\u001b[0m \u001b[0mturno\u001b[0m\u001b[0;34m,\u001b[0m \u001b[0my\u001b[0m\u001b[0;34m,\u001b[0m \u001b[0mx\u001b[0m\u001b[0;34m)\u001b[0m\u001b[0;34m:\u001b[0m \u001b[0;31m#Busca el símbolo y retorna su respectiva pieza\u001b[0m\u001b[0;34m\u001b[0m\u001b[0;34m\u001b[0m\u001b[0m\n",
            "\u001b[0;32m/usr/lib/python3.10/copy.py\u001b[0m in \u001b[0;36mdeepcopy\u001b[0;34m(x, memo, _nil)\u001b[0m\n\u001b[1;32m    170\u001b[0m                     \u001b[0my\u001b[0m \u001b[0;34m=\u001b[0m \u001b[0mx\u001b[0m\u001b[0;34m\u001b[0m\u001b[0;34m\u001b[0m\u001b[0m\n\u001b[1;32m    171\u001b[0m                 \u001b[0;32melse\u001b[0m\u001b[0;34m:\u001b[0m\u001b[0;34m\u001b[0m\u001b[0;34m\u001b[0m\u001b[0m\n\u001b[0;32m--> 172\u001b[0;31m                     \u001b[0my\u001b[0m \u001b[0;34m=\u001b[0m \u001b[0m_reconstruct\u001b[0m\u001b[0;34m(\u001b[0m\u001b[0mx\u001b[0m\u001b[0;34m,\u001b[0m \u001b[0mmemo\u001b[0m\u001b[0;34m,\u001b[0m \u001b[0;34m*\u001b[0m\u001b[0mrv\u001b[0m\u001b[0;34m)\u001b[0m\u001b[0;34m\u001b[0m\u001b[0;34m\u001b[0m\u001b[0m\n\u001b[0m\u001b[1;32m    173\u001b[0m \u001b[0;34m\u001b[0m\u001b[0m\n\u001b[1;32m    174\u001b[0m     \u001b[0;31m# If is its own copy, don't memoize.\u001b[0m\u001b[0;34m\u001b[0m\u001b[0;34m\u001b[0m\u001b[0m\n",
            "\u001b[0;32m/usr/lib/python3.10/copy.py\u001b[0m in \u001b[0;36m_reconstruct\u001b[0;34m(x, memo, func, args, state, listiter, dictiter, deepcopy)\u001b[0m\n\u001b[1;32m    269\u001b[0m     \u001b[0;32mif\u001b[0m \u001b[0mstate\u001b[0m \u001b[0;32mis\u001b[0m \u001b[0;32mnot\u001b[0m \u001b[0;32mNone\u001b[0m\u001b[0;34m:\u001b[0m\u001b[0;34m\u001b[0m\u001b[0;34m\u001b[0m\u001b[0m\n\u001b[1;32m    270\u001b[0m         \u001b[0;32mif\u001b[0m \u001b[0mdeep\u001b[0m\u001b[0;34m:\u001b[0m\u001b[0;34m\u001b[0m\u001b[0;34m\u001b[0m\u001b[0m\n\u001b[0;32m--> 271\u001b[0;31m             \u001b[0mstate\u001b[0m \u001b[0;34m=\u001b[0m \u001b[0mdeepcopy\u001b[0m\u001b[0;34m(\u001b[0m\u001b[0mstate\u001b[0m\u001b[0;34m,\u001b[0m \u001b[0mmemo\u001b[0m\u001b[0;34m)\u001b[0m\u001b[0;34m\u001b[0m\u001b[0;34m\u001b[0m\u001b[0m\n\u001b[0m\u001b[1;32m    272\u001b[0m         \u001b[0;32mif\u001b[0m \u001b[0mhasattr\u001b[0m\u001b[0;34m(\u001b[0m\u001b[0my\u001b[0m\u001b[0;34m,\u001b[0m \u001b[0;34m'__setstate__'\u001b[0m\u001b[0;34m)\u001b[0m\u001b[0;34m:\u001b[0m\u001b[0;34m\u001b[0m\u001b[0;34m\u001b[0m\u001b[0m\n\u001b[1;32m    273\u001b[0m             \u001b[0my\u001b[0m\u001b[0;34m.\u001b[0m\u001b[0m__setstate__\u001b[0m\u001b[0;34m(\u001b[0m\u001b[0mstate\u001b[0m\u001b[0;34m)\u001b[0m\u001b[0;34m\u001b[0m\u001b[0;34m\u001b[0m\u001b[0m\n",
            "\u001b[0;32m/usr/lib/python3.10/copy.py\u001b[0m in \u001b[0;36mdeepcopy\u001b[0;34m(x, memo, _nil)\u001b[0m\n\u001b[1;32m    144\u001b[0m     \u001b[0mcopier\u001b[0m \u001b[0;34m=\u001b[0m \u001b[0m_deepcopy_dispatch\u001b[0m\u001b[0;34m.\u001b[0m\u001b[0mget\u001b[0m\u001b[0;34m(\u001b[0m\u001b[0mcls\u001b[0m\u001b[0;34m)\u001b[0m\u001b[0;34m\u001b[0m\u001b[0;34m\u001b[0m\u001b[0m\n\u001b[1;32m    145\u001b[0m     \u001b[0;32mif\u001b[0m \u001b[0mcopier\u001b[0m \u001b[0;32mis\u001b[0m \u001b[0;32mnot\u001b[0m \u001b[0;32mNone\u001b[0m\u001b[0;34m:\u001b[0m\u001b[0;34m\u001b[0m\u001b[0;34m\u001b[0m\u001b[0m\n\u001b[0;32m--> 146\u001b[0;31m         \u001b[0my\u001b[0m \u001b[0;34m=\u001b[0m \u001b[0mcopier\u001b[0m\u001b[0;34m(\u001b[0m\u001b[0mx\u001b[0m\u001b[0;34m,\u001b[0m \u001b[0mmemo\u001b[0m\u001b[0;34m)\u001b[0m\u001b[0;34m\u001b[0m\u001b[0;34m\u001b[0m\u001b[0m\n\u001b[0m\u001b[1;32m    147\u001b[0m     \u001b[0;32melse\u001b[0m\u001b[0;34m:\u001b[0m\u001b[0;34m\u001b[0m\u001b[0;34m\u001b[0m\u001b[0m\n\u001b[1;32m    148\u001b[0m         \u001b[0;32mif\u001b[0m \u001b[0missubclass\u001b[0m\u001b[0;34m(\u001b[0m\u001b[0mcls\u001b[0m\u001b[0;34m,\u001b[0m \u001b[0mtype\u001b[0m\u001b[0;34m)\u001b[0m\u001b[0;34m:\u001b[0m\u001b[0;34m\u001b[0m\u001b[0;34m\u001b[0m\u001b[0m\n",
            "\u001b[0;32m/usr/lib/python3.10/copy.py\u001b[0m in \u001b[0;36m_deepcopy_dict\u001b[0;34m(x, memo, deepcopy)\u001b[0m\n\u001b[1;32m    229\u001b[0m     \u001b[0mmemo\u001b[0m\u001b[0;34m[\u001b[0m\u001b[0mid\u001b[0m\u001b[0;34m(\u001b[0m\u001b[0mx\u001b[0m\u001b[0;34m)\u001b[0m\u001b[0;34m]\u001b[0m \u001b[0;34m=\u001b[0m \u001b[0my\u001b[0m\u001b[0;34m\u001b[0m\u001b[0;34m\u001b[0m\u001b[0m\n\u001b[1;32m    230\u001b[0m     \u001b[0;32mfor\u001b[0m \u001b[0mkey\u001b[0m\u001b[0;34m,\u001b[0m \u001b[0mvalue\u001b[0m \u001b[0;32min\u001b[0m \u001b[0mx\u001b[0m\u001b[0;34m.\u001b[0m\u001b[0mitems\u001b[0m\u001b[0;34m(\u001b[0m\u001b[0;34m)\u001b[0m\u001b[0;34m:\u001b[0m\u001b[0;34m\u001b[0m\u001b[0;34m\u001b[0m\u001b[0m\n\u001b[0;32m--> 231\u001b[0;31m         \u001b[0my\u001b[0m\u001b[0;34m[\u001b[0m\u001b[0mdeepcopy\u001b[0m\u001b[0;34m(\u001b[0m\u001b[0mkey\u001b[0m\u001b[0;34m,\u001b[0m \u001b[0mmemo\u001b[0m\u001b[0;34m)\u001b[0m\u001b[0;34m]\u001b[0m \u001b[0;34m=\u001b[0m \u001b[0mdeepcopy\u001b[0m\u001b[0;34m(\u001b[0m\u001b[0mvalue\u001b[0m\u001b[0;34m,\u001b[0m \u001b[0mmemo\u001b[0m\u001b[0;34m)\u001b[0m\u001b[0;34m\u001b[0m\u001b[0;34m\u001b[0m\u001b[0m\n\u001b[0m\u001b[1;32m    232\u001b[0m     \u001b[0;32mreturn\u001b[0m \u001b[0my\u001b[0m\u001b[0;34m\u001b[0m\u001b[0;34m\u001b[0m\u001b[0m\n\u001b[1;32m    233\u001b[0m \u001b[0md\u001b[0m\u001b[0;34m[\u001b[0m\u001b[0mdict\u001b[0m\u001b[0;34m]\u001b[0m \u001b[0;34m=\u001b[0m \u001b[0m_deepcopy_dict\u001b[0m\u001b[0;34m\u001b[0m\u001b[0;34m\u001b[0m\u001b[0m\n",
            "\u001b[0;32m/usr/lib/python3.10/copy.py\u001b[0m in \u001b[0;36mdeepcopy\u001b[0;34m(x, memo, _nil)\u001b[0m\n\u001b[1;32m    144\u001b[0m     \u001b[0mcopier\u001b[0m \u001b[0;34m=\u001b[0m \u001b[0m_deepcopy_dispatch\u001b[0m\u001b[0;34m.\u001b[0m\u001b[0mget\u001b[0m\u001b[0;34m(\u001b[0m\u001b[0mcls\u001b[0m\u001b[0;34m)\u001b[0m\u001b[0;34m\u001b[0m\u001b[0;34m\u001b[0m\u001b[0m\n\u001b[1;32m    145\u001b[0m     \u001b[0;32mif\u001b[0m \u001b[0mcopier\u001b[0m \u001b[0;32mis\u001b[0m \u001b[0;32mnot\u001b[0m \u001b[0;32mNone\u001b[0m\u001b[0;34m:\u001b[0m\u001b[0;34m\u001b[0m\u001b[0;34m\u001b[0m\u001b[0m\n\u001b[0;32m--> 146\u001b[0;31m         \u001b[0my\u001b[0m \u001b[0;34m=\u001b[0m \u001b[0mcopier\u001b[0m\u001b[0;34m(\u001b[0m\u001b[0mx\u001b[0m\u001b[0;34m,\u001b[0m \u001b[0mmemo\u001b[0m\u001b[0;34m)\u001b[0m\u001b[0;34m\u001b[0m\u001b[0;34m\u001b[0m\u001b[0m\n\u001b[0m\u001b[1;32m    147\u001b[0m     \u001b[0;32melse\u001b[0m\u001b[0;34m:\u001b[0m\u001b[0;34m\u001b[0m\u001b[0;34m\u001b[0m\u001b[0m\n\u001b[1;32m    148\u001b[0m         \u001b[0;32mif\u001b[0m \u001b[0missubclass\u001b[0m\u001b[0;34m(\u001b[0m\u001b[0mcls\u001b[0m\u001b[0;34m,\u001b[0m \u001b[0mtype\u001b[0m\u001b[0;34m)\u001b[0m\u001b[0;34m:\u001b[0m\u001b[0;34m\u001b[0m\u001b[0;34m\u001b[0m\u001b[0m\n",
            "\u001b[0;32m/usr/lib/python3.10/copy.py\u001b[0m in \u001b[0;36m_deepcopy_list\u001b[0;34m(x, memo, deepcopy)\u001b[0m\n\u001b[1;32m    204\u001b[0m     \u001b[0mappend\u001b[0m \u001b[0;34m=\u001b[0m \u001b[0my\u001b[0m\u001b[0;34m.\u001b[0m\u001b[0mappend\u001b[0m\u001b[0;34m\u001b[0m\u001b[0;34m\u001b[0m\u001b[0m\n\u001b[1;32m    205\u001b[0m     \u001b[0;32mfor\u001b[0m \u001b[0ma\u001b[0m \u001b[0;32min\u001b[0m \u001b[0mx\u001b[0m\u001b[0;34m:\u001b[0m\u001b[0;34m\u001b[0m\u001b[0;34m\u001b[0m\u001b[0m\n\u001b[0;32m--> 206\u001b[0;31m         \u001b[0mappend\u001b[0m\u001b[0;34m(\u001b[0m\u001b[0mdeepcopy\u001b[0m\u001b[0;34m(\u001b[0m\u001b[0ma\u001b[0m\u001b[0;34m,\u001b[0m \u001b[0mmemo\u001b[0m\u001b[0;34m)\u001b[0m\u001b[0;34m)\u001b[0m\u001b[0;34m\u001b[0m\u001b[0;34m\u001b[0m\u001b[0m\n\u001b[0m\u001b[1;32m    207\u001b[0m     \u001b[0;32mreturn\u001b[0m \u001b[0my\u001b[0m\u001b[0;34m\u001b[0m\u001b[0;34m\u001b[0m\u001b[0m\n\u001b[1;32m    208\u001b[0m \u001b[0md\u001b[0m\u001b[0;34m[\u001b[0m\u001b[0mlist\u001b[0m\u001b[0;34m]\u001b[0m \u001b[0;34m=\u001b[0m \u001b[0m_deepcopy_list\u001b[0m\u001b[0;34m\u001b[0m\u001b[0;34m\u001b[0m\u001b[0m\n",
            "\u001b[0;32m/usr/lib/python3.10/copy.py\u001b[0m in \u001b[0;36mdeepcopy\u001b[0;34m(x, memo, _nil)\u001b[0m\n\u001b[1;32m    170\u001b[0m                     \u001b[0my\u001b[0m \u001b[0;34m=\u001b[0m \u001b[0mx\u001b[0m\u001b[0;34m\u001b[0m\u001b[0;34m\u001b[0m\u001b[0m\n\u001b[1;32m    171\u001b[0m                 \u001b[0;32melse\u001b[0m\u001b[0;34m:\u001b[0m\u001b[0;34m\u001b[0m\u001b[0;34m\u001b[0m\u001b[0m\n\u001b[0;32m--> 172\u001b[0;31m                     \u001b[0my\u001b[0m \u001b[0;34m=\u001b[0m \u001b[0m_reconstruct\u001b[0m\u001b[0;34m(\u001b[0m\u001b[0mx\u001b[0m\u001b[0;34m,\u001b[0m \u001b[0mmemo\u001b[0m\u001b[0;34m,\u001b[0m \u001b[0;34m*\u001b[0m\u001b[0mrv\u001b[0m\u001b[0;34m)\u001b[0m\u001b[0;34m\u001b[0m\u001b[0;34m\u001b[0m\u001b[0m\n\u001b[0m\u001b[1;32m    173\u001b[0m \u001b[0;34m\u001b[0m\u001b[0m\n\u001b[1;32m    174\u001b[0m     \u001b[0;31m# If is its own copy, don't memoize.\u001b[0m\u001b[0;34m\u001b[0m\u001b[0;34m\u001b[0m\u001b[0m\n",
            "\u001b[0;32m/usr/lib/python3.10/copy.py\u001b[0m in \u001b[0;36m_reconstruct\u001b[0;34m(x, memo, func, args, state, listiter, dictiter, deepcopy)\u001b[0m\n\u001b[1;32m    269\u001b[0m     \u001b[0;32mif\u001b[0m \u001b[0mstate\u001b[0m \u001b[0;32mis\u001b[0m \u001b[0;32mnot\u001b[0m \u001b[0;32mNone\u001b[0m\u001b[0;34m:\u001b[0m\u001b[0;34m\u001b[0m\u001b[0;34m\u001b[0m\u001b[0m\n\u001b[1;32m    270\u001b[0m         \u001b[0;32mif\u001b[0m \u001b[0mdeep\u001b[0m\u001b[0;34m:\u001b[0m\u001b[0;34m\u001b[0m\u001b[0;34m\u001b[0m\u001b[0m\n\u001b[0;32m--> 271\u001b[0;31m             \u001b[0mstate\u001b[0m \u001b[0;34m=\u001b[0m \u001b[0mdeepcopy\u001b[0m\u001b[0;34m(\u001b[0m\u001b[0mstate\u001b[0m\u001b[0;34m,\u001b[0m \u001b[0mmemo\u001b[0m\u001b[0;34m)\u001b[0m\u001b[0;34m\u001b[0m\u001b[0;34m\u001b[0m\u001b[0m\n\u001b[0m\u001b[1;32m    272\u001b[0m         \u001b[0;32mif\u001b[0m \u001b[0mhasattr\u001b[0m\u001b[0;34m(\u001b[0m\u001b[0my\u001b[0m\u001b[0;34m,\u001b[0m \u001b[0;34m'__setstate__'\u001b[0m\u001b[0;34m)\u001b[0m\u001b[0;34m:\u001b[0m\u001b[0;34m\u001b[0m\u001b[0;34m\u001b[0m\u001b[0m\n\u001b[1;32m    273\u001b[0m             \u001b[0my\u001b[0m\u001b[0;34m.\u001b[0m\u001b[0m__setstate__\u001b[0m\u001b[0;34m(\u001b[0m\u001b[0mstate\u001b[0m\u001b[0;34m)\u001b[0m\u001b[0;34m\u001b[0m\u001b[0;34m\u001b[0m\u001b[0m\n",
            "\u001b[0;32m/usr/lib/python3.10/copy.py\u001b[0m in \u001b[0;36mdeepcopy\u001b[0;34m(x, memo, _nil)\u001b[0m\n\u001b[1;32m    144\u001b[0m     \u001b[0mcopier\u001b[0m \u001b[0;34m=\u001b[0m \u001b[0m_deepcopy_dispatch\u001b[0m\u001b[0;34m.\u001b[0m\u001b[0mget\u001b[0m\u001b[0;34m(\u001b[0m\u001b[0mcls\u001b[0m\u001b[0;34m)\u001b[0m\u001b[0;34m\u001b[0m\u001b[0;34m\u001b[0m\u001b[0m\n\u001b[1;32m    145\u001b[0m     \u001b[0;32mif\u001b[0m \u001b[0mcopier\u001b[0m \u001b[0;32mis\u001b[0m \u001b[0;32mnot\u001b[0m \u001b[0;32mNone\u001b[0m\u001b[0;34m:\u001b[0m\u001b[0;34m\u001b[0m\u001b[0;34m\u001b[0m\u001b[0m\n\u001b[0;32m--> 146\u001b[0;31m         \u001b[0my\u001b[0m \u001b[0;34m=\u001b[0m \u001b[0mcopier\u001b[0m\u001b[0;34m(\u001b[0m\u001b[0mx\u001b[0m\u001b[0;34m,\u001b[0m \u001b[0mmemo\u001b[0m\u001b[0;34m)\u001b[0m\u001b[0;34m\u001b[0m\u001b[0;34m\u001b[0m\u001b[0m\n\u001b[0m\u001b[1;32m    147\u001b[0m     \u001b[0;32melse\u001b[0m\u001b[0;34m:\u001b[0m\u001b[0;34m\u001b[0m\u001b[0;34m\u001b[0m\u001b[0m\n\u001b[1;32m    148\u001b[0m         \u001b[0;32mif\u001b[0m \u001b[0missubclass\u001b[0m\u001b[0;34m(\u001b[0m\u001b[0mcls\u001b[0m\u001b[0;34m,\u001b[0m \u001b[0mtype\u001b[0m\u001b[0;34m)\u001b[0m\u001b[0;34m:\u001b[0m\u001b[0;34m\u001b[0m\u001b[0;34m\u001b[0m\u001b[0m\n",
            "\u001b[0;32m/usr/lib/python3.10/copy.py\u001b[0m in \u001b[0;36m_deepcopy_dict\u001b[0;34m(x, memo, deepcopy)\u001b[0m\n\u001b[1;32m    229\u001b[0m     \u001b[0mmemo\u001b[0m\u001b[0;34m[\u001b[0m\u001b[0mid\u001b[0m\u001b[0;34m(\u001b[0m\u001b[0mx\u001b[0m\u001b[0;34m)\u001b[0m\u001b[0;34m]\u001b[0m \u001b[0;34m=\u001b[0m \u001b[0my\u001b[0m\u001b[0;34m\u001b[0m\u001b[0;34m\u001b[0m\u001b[0m\n\u001b[1;32m    230\u001b[0m     \u001b[0;32mfor\u001b[0m \u001b[0mkey\u001b[0m\u001b[0;34m,\u001b[0m \u001b[0mvalue\u001b[0m \u001b[0;32min\u001b[0m \u001b[0mx\u001b[0m\u001b[0;34m.\u001b[0m\u001b[0mitems\u001b[0m\u001b[0;34m(\u001b[0m\u001b[0;34m)\u001b[0m\u001b[0;34m:\u001b[0m\u001b[0;34m\u001b[0m\u001b[0;34m\u001b[0m\u001b[0m\n\u001b[0;32m--> 231\u001b[0;31m         \u001b[0my\u001b[0m\u001b[0;34m[\u001b[0m\u001b[0mdeepcopy\u001b[0m\u001b[0;34m(\u001b[0m\u001b[0mkey\u001b[0m\u001b[0;34m,\u001b[0m \u001b[0mmemo\u001b[0m\u001b[0;34m)\u001b[0m\u001b[0;34m]\u001b[0m \u001b[0;34m=\u001b[0m \u001b[0mdeepcopy\u001b[0m\u001b[0;34m(\u001b[0m\u001b[0mvalue\u001b[0m\u001b[0;34m,\u001b[0m \u001b[0mmemo\u001b[0m\u001b[0;34m)\u001b[0m\u001b[0;34m\u001b[0m\u001b[0;34m\u001b[0m\u001b[0m\n\u001b[0m\u001b[1;32m    232\u001b[0m     \u001b[0;32mreturn\u001b[0m \u001b[0my\u001b[0m\u001b[0;34m\u001b[0m\u001b[0;34m\u001b[0m\u001b[0m\n\u001b[1;32m    233\u001b[0m \u001b[0md\u001b[0m\u001b[0;34m[\u001b[0m\u001b[0mdict\u001b[0m\u001b[0;34m]\u001b[0m \u001b[0;34m=\u001b[0m \u001b[0m_deepcopy_dict\u001b[0m\u001b[0;34m\u001b[0m\u001b[0;34m\u001b[0m\u001b[0m\n",
            "\u001b[0;32m/usr/lib/python3.10/copy.py\u001b[0m in \u001b[0;36mdeepcopy\u001b[0;34m(x, memo, _nil)\u001b[0m\n\u001b[1;32m    144\u001b[0m     \u001b[0mcopier\u001b[0m \u001b[0;34m=\u001b[0m \u001b[0m_deepcopy_dispatch\u001b[0m\u001b[0;34m.\u001b[0m\u001b[0mget\u001b[0m\u001b[0;34m(\u001b[0m\u001b[0mcls\u001b[0m\u001b[0;34m)\u001b[0m\u001b[0;34m\u001b[0m\u001b[0;34m\u001b[0m\u001b[0m\n\u001b[1;32m    145\u001b[0m     \u001b[0;32mif\u001b[0m \u001b[0mcopier\u001b[0m \u001b[0;32mis\u001b[0m \u001b[0;32mnot\u001b[0m \u001b[0;32mNone\u001b[0m\u001b[0;34m:\u001b[0m\u001b[0;34m\u001b[0m\u001b[0;34m\u001b[0m\u001b[0m\n\u001b[0;32m--> 146\u001b[0;31m         \u001b[0my\u001b[0m \u001b[0;34m=\u001b[0m \u001b[0mcopier\u001b[0m\u001b[0;34m(\u001b[0m\u001b[0mx\u001b[0m\u001b[0;34m,\u001b[0m \u001b[0mmemo\u001b[0m\u001b[0;34m)\u001b[0m\u001b[0;34m\u001b[0m\u001b[0;34m\u001b[0m\u001b[0m\n\u001b[0m\u001b[1;32m    147\u001b[0m     \u001b[0;32melse\u001b[0m\u001b[0;34m:\u001b[0m\u001b[0;34m\u001b[0m\u001b[0;34m\u001b[0m\u001b[0m\n\u001b[1;32m    148\u001b[0m         \u001b[0;32mif\u001b[0m \u001b[0missubclass\u001b[0m\u001b[0;34m(\u001b[0m\u001b[0mcls\u001b[0m\u001b[0;34m,\u001b[0m \u001b[0mtype\u001b[0m\u001b[0;34m)\u001b[0m\u001b[0;34m:\u001b[0m\u001b[0;34m\u001b[0m\u001b[0;34m\u001b[0m\u001b[0m\n",
            "\u001b[0;32m/usr/lib/python3.10/copy.py\u001b[0m in \u001b[0;36m_deepcopy_list\u001b[0;34m(x, memo, deepcopy)\u001b[0m\n\u001b[1;32m    204\u001b[0m     \u001b[0mappend\u001b[0m \u001b[0;34m=\u001b[0m \u001b[0my\u001b[0m\u001b[0;34m.\u001b[0m\u001b[0mappend\u001b[0m\u001b[0;34m\u001b[0m\u001b[0;34m\u001b[0m\u001b[0m\n\u001b[1;32m    205\u001b[0m     \u001b[0;32mfor\u001b[0m \u001b[0ma\u001b[0m \u001b[0;32min\u001b[0m \u001b[0mx\u001b[0m\u001b[0;34m:\u001b[0m\u001b[0;34m\u001b[0m\u001b[0;34m\u001b[0m\u001b[0m\n\u001b[0;32m--> 206\u001b[0;31m         \u001b[0mappend\u001b[0m\u001b[0;34m(\u001b[0m\u001b[0mdeepcopy\u001b[0m\u001b[0;34m(\u001b[0m\u001b[0ma\u001b[0m\u001b[0;34m,\u001b[0m \u001b[0mmemo\u001b[0m\u001b[0;34m)\u001b[0m\u001b[0;34m)\u001b[0m\u001b[0;34m\u001b[0m\u001b[0;34m\u001b[0m\u001b[0m\n\u001b[0m\u001b[1;32m    207\u001b[0m     \u001b[0;32mreturn\u001b[0m \u001b[0my\u001b[0m\u001b[0;34m\u001b[0m\u001b[0;34m\u001b[0m\u001b[0m\n\u001b[1;32m    208\u001b[0m \u001b[0md\u001b[0m\u001b[0;34m[\u001b[0m\u001b[0mlist\u001b[0m\u001b[0;34m]\u001b[0m \u001b[0;34m=\u001b[0m \u001b[0m_deepcopy_list\u001b[0m\u001b[0;34m\u001b[0m\u001b[0;34m\u001b[0m\u001b[0m\n",
            "\u001b[0;32m/usr/lib/python3.10/copy.py\u001b[0m in \u001b[0;36mdeepcopy\u001b[0;34m(x, memo, _nil)\u001b[0m\n\u001b[1;32m    144\u001b[0m     \u001b[0mcopier\u001b[0m \u001b[0;34m=\u001b[0m \u001b[0m_deepcopy_dispatch\u001b[0m\u001b[0;34m.\u001b[0m\u001b[0mget\u001b[0m\u001b[0;34m(\u001b[0m\u001b[0mcls\u001b[0m\u001b[0;34m)\u001b[0m\u001b[0;34m\u001b[0m\u001b[0;34m\u001b[0m\u001b[0m\n\u001b[1;32m    145\u001b[0m     \u001b[0;32mif\u001b[0m \u001b[0mcopier\u001b[0m \u001b[0;32mis\u001b[0m \u001b[0;32mnot\u001b[0m \u001b[0;32mNone\u001b[0m\u001b[0;34m:\u001b[0m\u001b[0;34m\u001b[0m\u001b[0;34m\u001b[0m\u001b[0m\n\u001b[0;32m--> 146\u001b[0;31m         \u001b[0my\u001b[0m \u001b[0;34m=\u001b[0m \u001b[0mcopier\u001b[0m\u001b[0;34m(\u001b[0m\u001b[0mx\u001b[0m\u001b[0;34m,\u001b[0m \u001b[0mmemo\u001b[0m\u001b[0;34m)\u001b[0m\u001b[0;34m\u001b[0m\u001b[0;34m\u001b[0m\u001b[0m\n\u001b[0m\u001b[1;32m    147\u001b[0m     \u001b[0;32melse\u001b[0m\u001b[0;34m:\u001b[0m\u001b[0;34m\u001b[0m\u001b[0;34m\u001b[0m\u001b[0m\n\u001b[1;32m    148\u001b[0m         \u001b[0;32mif\u001b[0m \u001b[0missubclass\u001b[0m\u001b[0;34m(\u001b[0m\u001b[0mcls\u001b[0m\u001b[0;34m,\u001b[0m \u001b[0mtype\u001b[0m\u001b[0;34m)\u001b[0m\u001b[0;34m:\u001b[0m\u001b[0;34m\u001b[0m\u001b[0;34m\u001b[0m\u001b[0m\n",
            "\u001b[0;32m/usr/lib/python3.10/copy.py\u001b[0m in \u001b[0;36m_deepcopy_tuple\u001b[0;34m(x, memo, deepcopy)\u001b[0m\n\u001b[1;32m    216\u001b[0m     \u001b[0;32mexcept\u001b[0m \u001b[0mKeyError\u001b[0m\u001b[0;34m:\u001b[0m\u001b[0;34m\u001b[0m\u001b[0;34m\u001b[0m\u001b[0m\n\u001b[1;32m    217\u001b[0m         \u001b[0;32mpass\u001b[0m\u001b[0;34m\u001b[0m\u001b[0;34m\u001b[0m\u001b[0m\n\u001b[0;32m--> 218\u001b[0;31m     \u001b[0;32mfor\u001b[0m \u001b[0mk\u001b[0m\u001b[0;34m,\u001b[0m \u001b[0mj\u001b[0m \u001b[0;32min\u001b[0m \u001b[0mzip\u001b[0m\u001b[0;34m(\u001b[0m\u001b[0mx\u001b[0m\u001b[0;34m,\u001b[0m \u001b[0my\u001b[0m\u001b[0;34m)\u001b[0m\u001b[0;34m:\u001b[0m\u001b[0;34m\u001b[0m\u001b[0;34m\u001b[0m\u001b[0m\n\u001b[0m\u001b[1;32m    219\u001b[0m         \u001b[0;32mif\u001b[0m \u001b[0mk\u001b[0m \u001b[0;32mis\u001b[0m \u001b[0;32mnot\u001b[0m \u001b[0mj\u001b[0m\u001b[0;34m:\u001b[0m\u001b[0;34m\u001b[0m\u001b[0;34m\u001b[0m\u001b[0m\n\u001b[1;32m    220\u001b[0m             \u001b[0my\u001b[0m \u001b[0;34m=\u001b[0m \u001b[0mtuple\u001b[0m\u001b[0;34m(\u001b[0m\u001b[0my\u001b[0m\u001b[0;34m)\u001b[0m\u001b[0;34m\u001b[0m\u001b[0;34m\u001b[0m\u001b[0m\n",
            "\u001b[0;31mKeyboardInterrupt\u001b[0m: "
          ]
        }
      ],
      "source": [
        "from time import time\n",
        "tiempo_inicial = time()\n",
        "\n",
        "qchess = QuantumChess()\n",
        "print(qchess.play_save_game(mcts_player, random_player, verbose=True))\n",
        "\n",
        "tiempo_final = time()\n",
        "tiempo_ejecucion = tiempo_final - tiempo_inicial\n",
        "print('--- El tiempo de ejecucion fue:',tiempo_ejecucion,\"segundos. ---\")"
      ]
    }
  ],
  "metadata": {
    "colab": {
      "provenance": [],
      "include_colab_link": true
    },
    "kernelspec": {
      "display_name": "Python 3",
      "name": "python3"
    },
    "language_info": {
      "codemirror_mode": {
        "name": "ipython",
        "version": 3
      },
      "file_extension": ".py",
      "mimetype": "text/x-python",
      "name": "python",
      "nbconvert_exporter": "python",
      "pygments_lexer": "ipython3",
      "version": "3.12.6"
    }
  },
  "nbformat": 4,
  "nbformat_minor": 0
}